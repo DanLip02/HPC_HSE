{
 "cells": [
  {
   "cell_type": "code",
   "execution_count": 1,
   "id": "db65e3aa-3df5-4450-9128-04307973ab37",
   "metadata": {},
   "outputs": [],
   "source": [
    "import pandas as pd\n",
    "import matplotlib.pyplot as plt\n"
   ]
  },
  {
   "cell_type": "markdown",
   "id": "eda2443e-13fd-4057-b6ef-6ac5025a0340",
   "metadata": {},
   "source": [
    "Shared memory BLOCK_SIZE from time"
   ]
  },
  {
   "cell_type": "code",
   "execution_count": null,
   "id": "511ed809-b714-47cf-83c9-53fb86bdd952",
   "metadata": {},
   "outputs": [],
   "source": [
    "dict_avar = {'1024': {4: [42.1889],\n",
    "                      8: [41.9665],\n",
    "                      16: [40.444],\n",
    "                      32: [40.1974],},\n",
    "             '1000': {4: [42.4989],\n",
    "                      8: [41.2945],\n",
    "                      16: [40.8157],\n",
    "                      32: [39.6627]},\n",
    "             '500': {1: [0.214882, 0.21322, 0.216079, 0.210034, 0.216199, 0.215867],\n",
    "                     2: [0.142213, 0.140974, 0.141926, 0.142028, 0.136531, 0.142246],\n",
    "                     4: [0.082775, 0.082778, 0.083093, 0.082833, 0.083004, 0.083267],\n",
    "                     8: [0.060513, 0.046662, 0.046652, 0.046654, 0.046806, 0.046721],\n",
    "                     16: [0.045421, 0.047878, 0.045500, 0.050502, 0.035175, 0.048088]\n",
    "                    }\n",
    "            }\n",
    "   "
   ]
  }
 ],
 "metadata": {
  "kernelspec": {
   "display_name": "Python 3 (ipykernel)",
   "language": "python",
   "name": "python3"
  },
  "language_info": {
   "codemirror_mode": {
    "name": "ipython",
    "version": 3
   },
   "file_extension": ".py",
   "mimetype": "text/x-python",
   "name": "python",
   "nbconvert_exporter": "python",
   "pygments_lexer": "ipython3",
   "version": "3.11.7"
  }
 },
 "nbformat": 4,
 "nbformat_minor": 5
}
